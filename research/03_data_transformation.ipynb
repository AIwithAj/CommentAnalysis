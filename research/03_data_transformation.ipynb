{
 "cells": [
  {
   "cell_type": "code",
   "execution_count": 1,
   "id": "143292c6",
   "metadata": {},
   "outputs": [],
   "source": [
    "import os"
   ]
  },
  {
   "cell_type": "code",
   "execution_count": 2,
   "id": "ee7e56a9",
   "metadata": {},
   "outputs": [
    {
     "data": {
      "text/plain": [
       "'c:\\\\Users\\\\ajay\\\\Desktop\\\\myPortfolio\\\\CommentAnalysis\\\\research'"
      ]
     },
     "execution_count": 2,
     "metadata": {},
     "output_type": "execute_result"
    }
   ],
   "source": [
    "%pwd"
   ]
  },
  {
   "cell_type": "code",
   "execution_count": 3,
   "id": "42ea5209",
   "metadata": {},
   "outputs": [],
   "source": [
    "os.chdir(\"../\")"
   ]
  },
  {
   "cell_type": "code",
   "execution_count": 4,
   "id": "b286f7ad",
   "metadata": {},
   "outputs": [
    {
     "data": {
      "text/plain": [
       "'c:\\\\Users\\\\ajay\\\\Desktop\\\\myPortfolio\\\\CommentAnalysis'"
      ]
     },
     "execution_count": 4,
     "metadata": {},
     "output_type": "execute_result"
    }
   ],
   "source": [
    "%pwd"
   ]
  },
  {
   "cell_type": "code",
   "execution_count": 12,
   "id": "d86fdbd5",
   "metadata": {},
   "outputs": [],
   "source": [
    "from dataclasses import dataclass\n",
    "from pathlib import Path\n",
    "\n",
    "\n",
    "@dataclass(frozen=True)\n",
    "class DataTransformationConfig:\n",
    "    train_file_path: Path\n",
    "    test_file_path: Path\n",
    "    DATA_transformation_DIR: Path\n",
    "    transform_train_file: Path\n",
    "    transform_test_file: Path"
   ]
  },
  {
   "cell_type": "code",
   "execution_count": 13,
   "id": "5ba262ec",
   "metadata": {},
   "outputs": [],
   "source": [
    "from src.CommentAnalysis.constants import *\n",
    "from src.CommentAnalysis.utils.common import read_yaml, create_directories"
   ]
  },
  {
   "cell_type": "code",
   "execution_count": 20,
   "id": "4e022dea",
   "metadata": {},
   "outputs": [],
   "source": [
    "class ConfigurationManager:\n",
    "    def __init__(\n",
    "        self,\n",
    "        config_filepath = CONFIG_FILE_PATH,\n",
    "        params_filepath = PARAMS_FILE_PATH):\n",
    "        self.config = read_yaml(config_filepath)\n",
    "        self.params = read_yaml(params_filepath)\n",
    "        self.schema=read_yaml(SCHEMA_FILE_PATH)\n",
    "        create_directories([self.config.artifacts_root])\n",
    "    \n",
    "    def get_data_transformation_config(self) -> DataTransformationConfig:\n",
    "\n",
    "        config = self.config.data_Transformation\n",
    "        config2=self.config.data_validation\n",
    "\n",
    "\n",
    "        create_directories([config.DATA_transformation_DIR])\n",
    "        \n",
    "\n",
    "        data_transformation_config = DataTransformationConfig(\n",
    "            DATA_transformation_DIR=config.DATA_transformation_DIR,\n",
    "            train_file_path=config2.train_file_path,\n",
    "            test_file_path=config2.test_file_path,\n",
    "            transform_train_file=config.transform_train_file,\n",
    "            transform_test_file=config.transform_test_file\n",
    "            \n",
    "            \n",
    "        )\n",
    "\n",
    "        return data_transformation_config\n",
    "      "
   ]
  },
  {
   "cell_type": "code",
   "execution_count": 21,
   "id": "9718de17",
   "metadata": {},
   "outputs": [
    {
     "name": "stderr",
     "output_type": "stream",
     "text": [
      "[nltk_data] Downloading package wordnet to\n",
      "[nltk_data]     C:\\Users\\ajay\\AppData\\Roaming\\nltk_data...\n",
      "[nltk_data]   Package wordnet is already up-to-date!\n",
      "[nltk_data] Downloading package stopwords to\n",
      "[nltk_data]     C:\\Users\\ajay\\AppData\\Roaming\\nltk_data...\n",
      "[nltk_data]   Package stopwords is already up-to-date!\n"
     ]
    }
   ],
   "source": [
    "import nltk\n",
    "import sys\n",
    "from src.CommentAnalysis import logger\n",
    "from src.CommentAnalysis.utils.common import read_yaml,preprocess_comment,read_data\n",
    "from src.CommentAnalysis.constants import SCHEMA_FILE_PATH\n",
    "nltk.download('wordnet')\n",
    "nltk.download('stopwords')\n",
    "class DataTransformation:\n",
    "    def __init__(self,data_transformation_config):\n",
    "        try:\n",
    "            self.data_transformation_config=data_transformation_config\n",
    "            # self._schema_config = read_yaml(SCHEMA_FILE_PATH)\n",
    "        except Exception as e:\n",
    "            raise Exception(e, sys)\n",
    "    \n",
    " \n",
    "    def normalize_text(self,df):\n",
    "        \"\"\"Apply preprocessing to the text data in the dataframe.\"\"\"\n",
    "        try:\n",
    "            df['clean_comment'] = df['clean_comment'].apply(preprocess_comment)\n",
    "            logger.debug('Text normalization completed')\n",
    "            return df\n",
    "        except Exception as e:\n",
    "            logger.error(f\"Error during text normalization: {e}\")\n",
    "            raise\n",
    "    def initiate_data_Transformation(self):\n",
    "        logger.debug(\"Starting data preprocessing...\")\n",
    "        train_data=read_data(self.data_transformation_config.train_file_path)\n",
    "        test_data=read_data(self.data_transformation_config.test_file_path)\n",
    "        logger.debug('Data loaded successfully')\n",
    "\n",
    "        train_processed_data = self.normalize_text(train_data)\n",
    "        test_processed_data = self.normalize_text(test_data)\n",
    "\n",
    "        transform_train_path = self.data_transformation_config.transform_train_file\n",
    "        transform_test_path = self.data_transformation_config.transform_test_file\n",
    "\n",
    "        train_processed_data.to_csv(transform_train_path, index=False)\n",
    "        test_processed_data.to_csv(transform_test_path, index=False)\n",
    "\n",
    "        logger.info(f\"Transformed Train file saved to: {transform_train_path}\")\n",
    "        logger.info(f\"Transform Test file saved to: {transform_test_path}\")\n",
    "          \n",
    "\n",
    "\n"
   ]
  },
  {
   "cell_type": "code",
   "execution_count": 22,
   "id": "8d8d2093",
   "metadata": {},
   "outputs": [
    {
     "name": "stdout",
     "output_type": "stream",
     "text": [
      "[2025-07-07 22:10:27,432: INFO: common: YAML file loaded successfully: config\\config.yaml]\n",
      "[2025-07-07 22:10:27,440: INFO: common: YAML file loaded successfully: params.yaml]\n",
      "[2025-07-07 22:10:27,447: INFO: common: YAML file loaded successfully: config\\schema.yaml]\n",
      "[2025-07-07 22:10:27,451: INFO: common: Created directory: artifacts]\n",
      "[2025-07-07 22:10:27,454: INFO: common: Created directory: artifacts/data_Transformation]\n"
     ]
    },
    {
     "name": "stdout",
     "output_type": "stream",
     "text": [
      "[2025-07-07 22:10:31,721: ERROR: common: Error in preprocessing comment: 'float' object has no attribute 'lower']\n",
      "[2025-07-07 22:10:31,728: ERROR: common: Error in preprocessing comment: 'float' object has no attribute 'lower']\n",
      "[2025-07-07 22:10:31,874: ERROR: common: Error in preprocessing comment: 'float' object has no attribute 'lower']\n",
      "[2025-07-07 22:10:31,984: ERROR: common: Error in preprocessing comment: 'float' object has no attribute 'lower']\n",
      "[2025-07-07 22:10:32,000: ERROR: common: Error in preprocessing comment: 'float' object has no attribute 'lower']\n",
      "[2025-07-07 22:10:32,111: ERROR: common: Error in preprocessing comment: 'float' object has no attribute 'lower']\n",
      "[2025-07-07 22:10:32,182: ERROR: common: Error in preprocessing comment: 'float' object has no attribute 'lower']\n",
      "[2025-07-07 22:10:32,664: ERROR: common: Error in preprocessing comment: 'float' object has no attribute 'lower']\n",
      "[2025-07-07 22:10:32,774: ERROR: common: Error in preprocessing comment: 'float' object has no attribute 'lower']\n",
      "[2025-07-07 22:10:32,775: ERROR: common: Error in preprocessing comment: 'float' object has no attribute 'lower']\n",
      "[2025-07-07 22:10:32,840: ERROR: common: Error in preprocessing comment: 'float' object has no attribute 'lower']\n",
      "[2025-07-07 22:10:32,882: ERROR: common: Error in preprocessing comment: 'float' object has no attribute 'lower']\n",
      "[2025-07-07 22:10:33,004: ERROR: common: Error in preprocessing comment: 'float' object has no attribute 'lower']\n",
      "[2025-07-07 22:10:33,461: ERROR: common: Error in preprocessing comment: 'float' object has no attribute 'lower']\n",
      "[2025-07-07 22:10:33,973: ERROR: common: Error in preprocessing comment: 'float' object has no attribute 'lower']\n",
      "[2025-07-07 22:10:34,228: ERROR: common: Error in preprocessing comment: 'float' object has no attribute 'lower']\n",
      "[2025-07-07 22:10:34,724: ERROR: common: Error in preprocessing comment: 'float' object has no attribute 'lower']\n",
      "[2025-07-07 22:10:35,563: ERROR: common: Error in preprocessing comment: 'float' object has no attribute 'lower']\n",
      "[2025-07-07 22:10:35,715: ERROR: common: Error in preprocessing comment: 'float' object has no attribute 'lower']\n",
      "[2025-07-07 22:10:35,792: ERROR: common: Error in preprocessing comment: 'float' object has no attribute 'lower']\n",
      "[2025-07-07 22:10:35,960: ERROR: common: Error in preprocessing comment: 'float' object has no attribute 'lower']\n",
      "[2025-07-07 22:10:36,139: ERROR: common: Error in preprocessing comment: 'float' object has no attribute 'lower']\n",
      "[2025-07-07 22:10:37,131: ERROR: common: Error in preprocessing comment: 'float' object has no attribute 'lower']\n",
      "[2025-07-07 22:10:37,412: ERROR: common: Error in preprocessing comment: 'float' object has no attribute 'lower']\n",
      "[2025-07-07 22:10:37,431: ERROR: common: Error in preprocessing comment: 'float' object has no attribute 'lower']\n",
      "[2025-07-07 22:10:37,557: ERROR: common: Error in preprocessing comment: 'float' object has no attribute 'lower']\n",
      "[2025-07-07 22:10:38,564: ERROR: common: Error in preprocessing comment: 'float' object has no attribute 'lower']\n",
      "[2025-07-07 22:10:38,847: ERROR: common: Error in preprocessing comment: 'float' object has no attribute 'lower']\n",
      "[2025-07-07 22:10:39,163: ERROR: common: Error in preprocessing comment: 'float' object has no attribute 'lower']\n",
      "[2025-07-07 22:10:39,195: ERROR: common: Error in preprocessing comment: 'float' object has no attribute 'lower']\n",
      "[2025-07-07 22:10:39,398: ERROR: common: Error in preprocessing comment: 'float' object has no attribute 'lower']\n",
      "[2025-07-07 22:10:39,500: ERROR: common: Error in preprocessing comment: 'float' object has no attribute 'lower']\n",
      "[2025-07-07 22:10:39,576: ERROR: common: Error in preprocessing comment: 'float' object has no attribute 'lower']\n",
      "[2025-07-07 22:10:39,766: ERROR: common: Error in preprocessing comment: 'float' object has no attribute 'lower']\n",
      "[2025-07-07 22:10:40,070: ERROR: common: Error in preprocessing comment: 'float' object has no attribute 'lower']\n",
      "[2025-07-07 22:10:40,431: ERROR: common: Error in preprocessing comment: 'float' object has no attribute 'lower']\n",
      "[2025-07-07 22:10:40,950: ERROR: common: Error in preprocessing comment: 'float' object has no attribute 'lower']\n",
      "[2025-07-07 22:10:41,110: ERROR: common: Error in preprocessing comment: 'float' object has no attribute 'lower']\n",
      "[2025-07-07 22:10:41,174: ERROR: common: Error in preprocessing comment: 'float' object has no attribute 'lower']\n",
      "[2025-07-07 22:10:41,755: ERROR: common: Error in preprocessing comment: 'float' object has no attribute 'lower']\n",
      "[2025-07-07 22:10:42,870: ERROR: common: Error in preprocessing comment: 'float' object has no attribute 'lower']\n",
      "[2025-07-07 22:10:42,954: ERROR: common: Error in preprocessing comment: 'float' object has no attribute 'lower']\n",
      "[2025-07-07 22:10:43,107: ERROR: common: Error in preprocessing comment: 'float' object has no attribute 'lower']\n",
      "[2025-07-07 22:10:43,192: ERROR: common: Error in preprocessing comment: 'float' object has no attribute 'lower']\n",
      "[2025-07-07 22:10:43,504: ERROR: common: Error in preprocessing comment: 'float' object has no attribute 'lower']\n",
      "[2025-07-07 22:10:43,581: ERROR: common: Error in preprocessing comment: 'float' object has no attribute 'lower']\n",
      "[2025-07-07 22:10:43,782: ERROR: common: Error in preprocessing comment: 'float' object has no attribute 'lower']\n",
      "[2025-07-07 22:10:44,616: ERROR: common: Error in preprocessing comment: 'float' object has no attribute 'lower']\n",
      "[2025-07-07 22:10:45,810: ERROR: common: Error in preprocessing comment: 'float' object has no attribute 'lower']\n",
      "[2025-07-07 22:10:46,348: ERROR: common: Error in preprocessing comment: 'float' object has no attribute 'lower']\n",
      "[2025-07-07 22:10:46,589: ERROR: common: Error in preprocessing comment: 'float' object has no attribute 'lower']\n",
      "[2025-07-07 22:10:47,107: ERROR: common: Error in preprocessing comment: 'float' object has no attribute 'lower']\n",
      "[2025-07-07 22:10:47,515: ERROR: common: Error in preprocessing comment: 'float' object has no attribute 'lower']\n",
      "[2025-07-07 22:10:48,148: ERROR: common: Error in preprocessing comment: 'float' object has no attribute 'lower']\n",
      "[2025-07-07 22:10:48,238: ERROR: common: Error in preprocessing comment: 'float' object has no attribute 'lower']\n",
      "[2025-07-07 22:10:48,500: ERROR: common: Error in preprocessing comment: 'float' object has no attribute 'lower']\n",
      "[2025-07-07 22:10:48,812: ERROR: common: Error in preprocessing comment: 'float' object has no attribute 'lower']\n",
      "[2025-07-07 22:10:49,430: ERROR: common: Error in preprocessing comment: 'float' object has no attribute 'lower']\n",
      "[2025-07-07 22:10:49,688: ERROR: common: Error in preprocessing comment: 'float' object has no attribute 'lower']\n",
      "[2025-07-07 22:10:49,938: ERROR: common: Error in preprocessing comment: 'float' object has no attribute 'lower']\n",
      "[2025-07-07 22:10:51,653: ERROR: common: Error in preprocessing comment: 'float' object has no attribute 'lower']\n",
      "[2025-07-07 22:10:51,666: ERROR: common: Error in preprocessing comment: 'float' object has no attribute 'lower']\n",
      "[2025-07-07 22:10:52,005: ERROR: common: Error in preprocessing comment: 'float' object has no attribute 'lower']\n",
      "[2025-07-07 22:10:53,178: ERROR: common: Error in preprocessing comment: 'float' object has no attribute 'lower']\n",
      "[2025-07-07 22:10:53,658: ERROR: common: Error in preprocessing comment: 'float' object has no attribute 'lower']\n",
      "[2025-07-07 22:10:53,972: ERROR: common: Error in preprocessing comment: 'float' object has no attribute 'lower']\n",
      "[2025-07-07 22:10:54,169: ERROR: common: Error in preprocessing comment: 'float' object has no attribute 'lower']\n",
      "[2025-07-07 22:10:54,250: ERROR: common: Error in preprocessing comment: 'float' object has no attribute 'lower']\n",
      "[2025-07-07 22:10:55,462: ERROR: common: Error in preprocessing comment: 'float' object has no attribute 'lower']\n",
      "[2025-07-07 22:10:55,674: ERROR: common: Error in preprocessing comment: 'float' object has no attribute 'lower']\n",
      "[2025-07-07 22:10:55,874: ERROR: common: Error in preprocessing comment: 'float' object has no attribute 'lower']\n",
      "[2025-07-07 22:10:55,921: ERROR: common: Error in preprocessing comment: 'float' object has no attribute 'lower']\n",
      "[2025-07-07 22:10:56,670: ERROR: common: Error in preprocessing comment: 'float' object has no attribute 'lower']\n",
      "[2025-07-07 22:10:57,056: ERROR: common: Error in preprocessing comment: 'float' object has no attribute 'lower']\n",
      "[2025-07-07 22:10:57,324: ERROR: common: Error in preprocessing comment: 'float' object has no attribute 'lower']\n",
      "[2025-07-07 22:10:57,504: ERROR: common: Error in preprocessing comment: 'float' object has no attribute 'lower']\n",
      "[2025-07-07 22:10:57,683: ERROR: common: Error in preprocessing comment: 'float' object has no attribute 'lower']\n",
      "[2025-07-07 22:10:58,403: ERROR: common: Error in preprocessing comment: 'float' object has no attribute 'lower']\n",
      "[2025-07-07 22:10:58,943: ERROR: common: Error in preprocessing comment: 'float' object has no attribute 'lower']\n",
      "[2025-07-07 22:10:59,015: ERROR: common: Error in preprocessing comment: 'float' object has no attribute 'lower']\n",
      "[2025-07-07 22:10:59,926: ERROR: common: Error in preprocessing comment: 'float' object has no attribute 'lower']\n",
      "[2025-07-07 22:11:00,216: ERROR: common: Error in preprocessing comment: 'float' object has no attribute 'lower']\n",
      "[2025-07-07 22:11:00,650: ERROR: common: Error in preprocessing comment: 'float' object has no attribute 'lower']\n",
      "[2025-07-07 22:11:00,982: ERROR: common: Error in preprocessing comment: 'float' object has no attribute 'lower']\n",
      "[2025-07-07 22:11:01,133: ERROR: common: Error in preprocessing comment: 'float' object has no attribute 'lower']\n",
      "[2025-07-07 22:11:01,348: ERROR: common: Error in preprocessing comment: 'float' object has no attribute 'lower']\n",
      "[2025-07-07 22:11:01,891: ERROR: common: Error in preprocessing comment: 'float' object has no attribute 'lower']\n",
      "[2025-07-07 22:11:02,026: ERROR: common: Error in preprocessing comment: 'float' object has no attribute 'lower']\n",
      "[2025-07-07 22:11:02,324: ERROR: common: Error in preprocessing comment: 'float' object has no attribute 'lower']\n",
      "[2025-07-07 22:11:02,389: ERROR: common: Error in preprocessing comment: 'float' object has no attribute 'lower']\n",
      "[2025-07-07 22:11:02,767: ERROR: common: Error in preprocessing comment: 'float' object has no attribute 'lower']\n",
      "[2025-07-07 22:11:03,248: ERROR: common: Error in preprocessing comment: 'float' object has no attribute 'lower']\n",
      "[2025-07-07 22:11:03,600: ERROR: common: Error in preprocessing comment: 'float' object has no attribute 'lower']\n",
      "[2025-07-07 22:11:05,558: ERROR: common: Error in preprocessing comment: 'float' object has no attribute 'lower']\n",
      "[2025-07-07 22:11:05,691: ERROR: common: Error in preprocessing comment: 'float' object has no attribute 'lower']\n",
      "[2025-07-07 22:11:05,851: ERROR: common: Error in preprocessing comment: 'float' object has no attribute 'lower']\n",
      "[2025-07-07 22:11:05,887: ERROR: common: Error in preprocessing comment: 'float' object has no attribute 'lower']\n",
      "[2025-07-07 22:11:06,523: ERROR: common: Error in preprocessing comment: 'float' object has no attribute 'lower']\n",
      "[2025-07-07 22:11:06,830: ERROR: common: Error in preprocessing comment: 'float' object has no attribute 'lower']\n",
      "[2025-07-07 22:11:06,987: ERROR: common: Error in preprocessing comment: 'float' object has no attribute 'lower']\n",
      "[2025-07-07 22:11:07,550: INFO: 4081353921: Transformed Train file saved to: artifacts/data_Transformation/transform_raining_data.csv]\n",
      "[2025-07-07 22:11:07,553: INFO: 4081353921: Transform Test file saved to: artifacts/data_Transformation/transform_test_file.csv]\n"
     ]
    }
   ],
   "source": [
    "try:\n",
    "    config = ConfigurationManager()\n",
    "    data_transformation_config = config.get_data_transformation_config()\n",
    "    data_validation = DataTransformation(data_transformation_config=data_transformation_config)\n",
    "    data_validation.initiate_data_Transformation() \n",
    "   \n",
    "except Exception as e:\n",
    "    raise e"
   ]
  },
  {
   "cell_type": "code",
   "execution_count": null,
   "id": "34d03667",
   "metadata": {},
   "outputs": [],
   "source": []
  }
 ],
 "metadata": {
  "kernelspec": {
   "display_name": ".env",
   "language": "python",
   "name": "python3"
  },
  "language_info": {
   "codemirror_mode": {
    "name": "ipython",
    "version": 3
   },
   "file_extension": ".py",
   "mimetype": "text/x-python",
   "name": "python",
   "nbconvert_exporter": "python",
   "pygments_lexer": "ipython3",
   "version": "3.13.0"
  }
 },
 "nbformat": 4,
 "nbformat_minor": 5
}
