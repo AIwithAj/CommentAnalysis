{
 "cells": [
  {
   "cell_type": "markdown",
   "id": "cbb08b9b",
   "metadata": {},
   "source": [
    "# Download data from gdrive"
   ]
  },
  {
   "cell_type": "markdown",
   "id": "ed9e3505",
   "metadata": {},
   "source": []
  },
  {
   "cell_type": "code",
   "execution_count": 2,
   "id": "344b73ad",
   "metadata": {},
   "outputs": [],
   "source": [
    "import gdown"
   ]
  },
  {
   "cell_type": "code",
   "execution_count": null,
   "id": "e0e9561a",
   "metadata": {},
   "outputs": [],
   "source": [
    "url=\"https://drive.google.com/file/d/13k9Yl1msxVidNneWm8XJXG__XRUWQBno/view?usp=sharing\""
   ]
  },
  {
   "cell_type": "code",
   "execution_count": 4,
   "id": "c070272c",
   "metadata": {},
   "outputs": [],
   "source": [
    "file_id=url.split(\"/\")[-2]"
   ]
  },
  {
   "cell_type": "code",
   "execution_count": 6,
   "id": "8c19bb9d",
   "metadata": {},
   "outputs": [
    {
     "name": "stderr",
     "output_type": "stream",
     "text": [
      "Downloading...\n",
      "From: https://drive.google.com/uc?/export=download&id=13k9Yl1msxVidNneWm8XJXG__XRUWQBno\n",
      "To: c:\\Users\\ajay\\Desktop\\myPortfolio\\CommentAnalysis\\research\\data.zip\n",
      "100%|██████████| 6.89M/6.89M [00:03<00:00, 2.16MB/s]\n"
     ]
    },
    {
     "data": {
      "text/plain": [
       "'data.zip'"
      ]
     },
     "execution_count": 6,
     "metadata": {},
     "output_type": "execute_result"
    }
   ],
   "source": [
    "prefix = 'https://drive.google.com/uc?/export=download&id='\n",
    "gdown.download(prefix+file_id,\"data.zip\")"
   ]
  },
  {
   "cell_type": "code",
   "execution_count": null,
   "id": "e955d49b",
   "metadata": {},
   "outputs": [],
   "source": [
    "Downloading...\n",
    "From: https://drive.google.com/uc?/export=download&id=13k9Yl1msxVidNneWm8XJXG__XRUWQBno\n",
    "To: c:\\Users\\ajay\\Desktop\\myPortfolio\\CommentAnalysis\\research\\data.zip\n",
    "100%|██████████| 6.89M/6.89M [00:03<00:00, 2.16MB/s]"
   ]
  }
 ],
 "metadata": {
  "kernelspec": {
   "display_name": ".env",
   "language": "python",
   "name": "python3"
  },
  "language_info": {
   "codemirror_mode": {
    "name": "ipython",
    "version": 3
   },
   "file_extension": ".py",
   "mimetype": "text/x-python",
   "name": "python",
   "nbconvert_exporter": "python",
   "pygments_lexer": "ipython3",
   "version": "3.13.0"
  }
 },
 "nbformat": 4,
 "nbformat_minor": 5
}
